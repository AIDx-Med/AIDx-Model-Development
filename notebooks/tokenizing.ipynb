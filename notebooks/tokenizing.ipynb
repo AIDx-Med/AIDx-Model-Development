{
 "cells": [
  {
   "cell_type": "code",
   "execution_count": null,
   "id": "initial_id",
   "metadata": {
    "collapsed": true
   },
   "outputs": [],
   "source": [
    "from dotenv import load_dotenv\n",
    "\n",
    "load_dotenv(\".env\")"
   ]
  },
  {
   "cell_type": "code",
   "outputs": [],
   "source": [
    "from sqlalchemy import create_engine\n",
    "from sqlalchemy.engine import URL\n",
    "import os\n",
    "\n",
    "HOST_IP = os.environ['DATABASE_IP']\n",
    "DATABASE_USER = os.environ['DATABASE_USER']\n",
    "DATABASE_PASSWORD = os.environ['DATABASE_PASSWORD']\n",
    "DATABASE_PORT = os.environ['DATABASE_PORT']\n",
    "\n",
    "connection_url = URL.create(\n",
    "    \"postgresql+psycopg2\",\n",
    "    username=DATABASE_USER,\n",
    "    password=DATABASE_PASSWORD,\n",
    "    host=HOST_IP,\n",
    "    port=DATABASE_PORT,\n",
    "    database=\"mimicllm\"\n",
    ")\n",
    "\n",
    "engine = create_engine(connection_url)"
   ],
   "metadata": {
    "collapsed": false
   },
   "id": "7884803769fce78b",
   "execution_count": null
  },
  {
   "cell_type": "code",
   "outputs": [],
   "source": [
    "from transformers import AutoTokenizer\n",
    "\n",
    "model_id = \"mistralai/Mixtral-8x7B-Instruct-v0.1\"\n",
    "tokenizer = AutoTokenizer.from_pretrained(model_id)"
   ],
   "metadata": {
    "collapsed": false
   },
   "id": "aae8cb5d30a98e99",
   "execution_count": null
  },
  {
   "cell_type": "code",
   "outputs": [],
   "source": [
    "def tokenize(text):\n",
    "    return tokenizer(text, return_tensors=\"pt\")\n",
    "\n",
    "def generate_prompt(system, input, output):\n",
    "    # convert to instruction formatting\n",
    "    input_prompt = f\"<|im_start>system\\n{system}\\n<|im_end|>\\n<|im_start|>user\\n{input}\\n<|im_end|><|im_start|>assistant\\n\"\n",
    "    output_prompt = f\"{output}\\n<|im_end|>\"\n",
    "    \n",
    "    return {\n",
    "        \"input\": input_prompt,\n",
    "        \"output\": output_prompt\n",
    "    }"
   ],
   "metadata": {
    "collapsed": false
   },
   "id": "a2ea6aae38049bcf",
   "execution_count": null
  },
  {
   "cell_type": "code",
   "outputs": [],
   "source": [
    "from sqlalchemy import text as sql_text\n",
    "\n",
    "def format_batch_query(batch, start_at=0):\n",
    "    return sql_text(f\"\"\"\n",
    "    SELECT input, output\n",
    "    FROM mimicllm.data\n",
    "    ORDER BY sample_id ASC\n",
    "    LIMIT {batch}\n",
    "    OFFSET {start_at}\n",
    "    \"\"\")"
   ],
   "metadata": {
    "collapsed": false
   },
   "id": "cbcfe81ee6d190c",
   "execution_count": null
  },
  {
   "cell_type": "code",
   "outputs": [],
   "source": [
    "import pandas as pd\n",
    "\n",
    "def get_batch(batch_size, start_at=0):\n",
    "    query = format_batch_query(batch_size, start_at)\n",
    "    df = pd.read_sql(query, engine)\n",
    "    return df\n",
    "\n",
    "def generate_batches(batch_size):\n",
    "    query = sql_text(\"\"\"\n",
    "    SELECT COUNT(*)\n",
    "    FROM mimicllm.data\n",
    "    \"\"\")\n",
    "    df = pd.read_sql(query, engine)\n",
    "    total = df.iloc[0]['count']\n",
    "    for i in range(0, total, batch_size):\n",
    "        yield get_batch(batch_size, i)"
   ],
   "metadata": {
    "collapsed": false
   },
   "id": "633c5b28adeba9bb",
   "execution_count": null
  },
  {
   "cell_type": "code",
   "outputs": [],
   "source": [
    "from tqdm.auto import tqdm\n",
    "\n",
    "system_prompt = \"\"\n",
    "\n",
    "for batch in generate_batches(100):\n",
    "    for index, row in tqdm(batch.iterrows(), total=len(batch)):\n",
    "        prompt = generate_prompt(system_prompt, row['input'], row['output'])\n",
    "        \n",
    "        input_tokens = tokenize(prompt['input'])\n",
    "        output_tokens = tokenize(prompt['output'])\n",
    "        \n",
    "        print(input_tokens['input_ids'].shape[1], output_tokens['input_ids'].shape[1])\n",
    "    \n",
    "    break"
   ],
   "metadata": {
    "collapsed": false
   },
   "id": "aa5f39bb8ee7a45b",
   "execution_count": null
  },
  {
   "cell_type": "code",
   "outputs": [],
   "source": [
    "# find number of tokens in input and output"
   ],
   "metadata": {
    "collapsed": false
   },
   "id": "c828cc0488ad3923",
   "execution_count": null
  },
  {
   "cell_type": "code",
   "outputs": [],
   "source": [],
   "metadata": {
    "collapsed": false
   },
   "id": "8f02d0769041eebd"
  }
 ],
 "metadata": {
  "kernelspec": {
   "display_name": "Python 3",
   "language": "python",
   "name": "python3"
  },
  "language_info": {
   "codemirror_mode": {
    "name": "ipython",
    "version": 2
   },
   "file_extension": ".py",
   "mimetype": "text/x-python",
   "name": "python",
   "nbconvert_exporter": "python",
   "pygments_lexer": "ipython2",
   "version": "2.7.6"
  }
 },
 "nbformat": 4,
 "nbformat_minor": 5
}
