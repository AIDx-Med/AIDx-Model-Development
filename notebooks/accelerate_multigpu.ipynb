{
 "cells": [
  {
   "cell_type": "code",
   "execution_count": null,
   "id": "5085fbd8-c1ff-4910-b1b8-c725db2cbecf",
   "metadata": {},
   "outputs": [],
   "source": [
    "import os\n",
    "os.environ['PYTORCH_CUDA_ALLOC_CONF']='max_split_size_mb:128'\n",
    "# os.environ['CUDA_VISIBLE_DEVICES'] = '0'\n",
    "\n",
    "from src.training.training_utils import *\n",
    "\n",
    "import transformers\n",
    "\n",
    "transformers.logging.set_verbosity_debug()"
   ]
  },
  {
   "cell_type": "code",
   "execution_count": null,
   "id": "cdf9c36c-3de0-432c-90f1-36e7a22282e2",
   "metadata": {},
   "outputs": [],
   "source": [
    "def main():\n",
    "    parquet_dir = '/workspace/data'\n",
    "    stream_data = False\n",
    "    base_model_id = 'mistralai/Mixtral-8x7B-Instruct-v0.1'\n",
    "    \n",
    "    cpu_count = os.cpu_count()\n",
    "    gpu_count = torch.cuda.device_count()\n",
    "    \n",
    "    print(\"Setting up training environment...\")\n",
    "    accelerator = setup_training_env()\n",
    "    data_collator = create_data_collator(base_model_id)\n",
    "    accelerator.print(\"Done setting up training environment...\")\n",
    "    \n",
    "    accelerator.print(f\"Number of CPUs available: {cpu_count}\")\n",
    "    accelerator.print(f\"Number of GPUs available: {gpu_count}\")\n",
    "    \n",
    "    accelerator.print(\"Loading data...\")\n",
    "    train_data, val_data, train_count, val_count = load_data(parquet_dir, stream=stream_data, cpu_count=cpu_count, accelerator=accelerator)\n",
    "    accelerator.print(\"Done loading data...\")\n",
    "    \n",
    "    accelerator.print(\"Loading compute_bertscore...\")\n",
    "    # compute_bertscore = load_bertscore()\n",
    "    accelerator.print(\"Done loading compute_bertscore...\")\n",
    "\n",
    "    # x = train_data.select(range(100))\n",
    "    \n",
    "    # def test(a):\n",
    "    #     return {\n",
    "    #         'attention_mask': a['attention_mask'][:512],\n",
    "    #         'input_ids': a['input_ids'][:512]\n",
    "    #     }\n",
    "    \n",
    "    # x = x.map(test)\n",
    "    \n",
    "    accelerator.print(\"Loading model trainer...\")\n",
    "    trainer = load_model_trainer(\n",
    "            base_model_id,\n",
    "            False,\n",
    "            data_collator,\n",
    "            train_data,\n",
    "            val_data,\n",
    "            train_count,\n",
    "            cpu_count//gpu_count,\n",
    "            accelerator\n",
    "        )\n",
    "    \n",
    "    print_gpu_utilization(accelerator)\n",
    "\n",
    "    train_result = trainer.train()"
   ]
  },
  {
   "cell_type": "code",
   "execution_count": null,
   "id": "98921e84-478f-4fe5-b3e3-df32446e9c74",
   "metadata": {},
   "outputs": [],
   "source": [
    "from accelerate import notebook_launcher\n",
    "\n",
    "notebook_launcher(main, num_processes=2)"
   ]
  },
  {
   "cell_type": "code",
   "execution_count": null,
   "id": "976931ee-c79a-4283-b723-9f3c1086915a",
   "metadata": {},
   "outputs": [],
   "source": []
  }
 ],
 "metadata": {
  "kernelspec": {
   "display_name": "Python 3 (ipykernel)",
   "language": "python",
   "name": "python3"
  },
  "language_info": {
   "codemirror_mode": {
    "name": "ipython",
    "version": 3
   },
   "file_extension": ".py",
   "mimetype": "text/x-python",
   "name": "python",
   "nbconvert_exporter": "python",
   "pygments_lexer": "ipython3",
   "version": "3.10.13"
  }
 },
 "nbformat": 4,
 "nbformat_minor": 5
}
