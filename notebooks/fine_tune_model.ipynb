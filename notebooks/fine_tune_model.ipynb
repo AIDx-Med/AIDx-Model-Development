{
 "cells": [
  {
   "cell_type": "code",
   "outputs": [],
   "source": [
    "import torch\n",
    "from transformers import AutoTokenizer, AutoModelForCausalLM, Trainer, TrainingArguments\n",
    "from peft import prepare_model_for_kbit_training, LoraConfig, get_peft_model, PeftModel\n",
    "\n",
    "model_name = \"mistralai/Mixtral-8x7B-Instruct-v0.1\"\n",
    "\n",
    "tokenizer = AutoTokenizer.from_pretrained(model_name, use_fast=True)\n",
    "tokenizer.add_special_tokens({\"pad_token\": \"[PAD]\"})\n",
    "\n",
    "model = AutoModelForCausalLM.from_pretrained(\n",
    "    model_name,\n",
    "    load_in_4bit=True,\n",
    "    torch_dtype=torch.float16,\n",
    "    device_map=\"auto\",\n",
    ")"
   ],
   "metadata": {
    "collapsed": false
   },
   "id": "c90317639976acc1",
   "execution_count": null
  },
  {
   "cell_type": "code",
   "outputs": [],
   "source": [
    "# Prepare model for k-bit training\n",
    "model = prepare_model_for_kbit_training(model)\n",
    "\n",
    "LORA_R = 8\n",
    "LORA_ALPHA = 2 * LORA_R\n",
    "LORA_DROPOUT = 0.1\n",
    "\n",
    "config = LoraConfig(\n",
    "    r=LORA_R,\n",
    "    lora_alpha=LORA_ALPHA,\n",
    "    target_modules=[\"w1\", \"w2\", \"w3\"],  # just targetting the MoE layers.\n",
    "    lora_dropout=LORA_DROPOUT,\n",
    "    bias=\"none\",\n",
    "    task_type=\"CAUSAL_LM\",\n",
    ")\n",
    "\n",
    "model = get_peft_model(model, config)"
   ],
   "metadata": {
    "collapsed": false
   },
   "id": "49703ed1606c1367"
  },
  {
   "cell_type": "code",
   "outputs": [],
   "source": [
    "import pickle\n",
    "\n",
    "\n",
    "def pickle_to_tensor(x):\n",
    "    deserial = pickle.loads(bytes.fromhex(x.replace(\"\\\\x\", \"\")))\n",
    "    return deserial"
   ],
   "metadata": {
    "collapsed": false
   },
   "id": "b56be6df0d9e3ad9",
   "execution_count": null
  },
  {
   "cell_type": "code",
   "outputs": [],
   "source": [
    "from datasets import load_dataset\n",
    "import os\n",
    "\n",
    "parquet_dir = \"data\"\n",
    "train_parquet_file = os.path.join(parquet_dir, \"train.parquet\")\n",
    "\n",
    "initial_dataset = load_dataset(\n",
    "    \"parquet\", data_files=train_parquet_file, streaming=True\n",
    ").remove_columns(\"token_id\")"
   ],
   "metadata": {
    "collapsed": false
   },
   "id": "a90efa49c8f16981",
   "execution_count": null
  },
  {
   "cell_type": "code",
   "outputs": [],
   "source": [
    "def transform(examples):\n",
    "    examples[\"attention_mask\"] = [\n",
    "        pickle_to_tensor(x) for x in examples[\"attention_mask\"]\n",
    "    ]\n",
    "    examples[\"input_ids\"] = [pickle_to_tensor(x) for x in examples[\"input_ids\"]]\n",
    "\n",
    "    return examples\n",
    "\n",
    "\n",
    "dataset = initial_dataset.map(transform, batched=True)"
   ],
   "metadata": {
    "collapsed": false
   },
   "id": "9edb922d6540723a",
   "execution_count": null
  },
  {
   "cell_type": "code",
   "outputs": [],
   "source": [
    "print(\"dataset\", dataset)\n",
    "train_data = dataset[\"train\"]"
   ],
   "metadata": {
    "collapsed": false
   },
   "id": "123496d1a319ae98",
   "execution_count": null
  },
  {
   "cell_type": "code",
   "outputs": [],
   "source": [
    "from transformers import DataCollatorForLanguageModeling\n",
    "\n",
    "\n",
    "class CustomDataCollator(DataCollatorForLanguageModeling):\n",
    "    def __call__(self, examples):\n",
    "        batch = {\"input_ids\": [], \"attention_mask\": []}\n",
    "        for example in examples:\n",
    "            batch[\"input_ids\"].append(example[\"input_ids\"][0])\n",
    "            batch[\"attention_mask\"].append(example[\"attention_mask\"][0])\n",
    "        batch = tokenizer.pad(batch, return_tensors=\"pt\", padding=\"longest\")\n",
    "\n",
    "        return batch"
   ],
   "metadata": {
    "collapsed": false
   },
   "id": "462e2bbc06dd0313",
   "execution_count": null
  },
  {
   "cell_type": "code",
   "outputs": [],
   "source": [
    "data_collator = CustomDataCollator(tokenizer, mlm=False)\n",
    "\n",
    "trainer = Trainer(\n",
    "    model=model,\n",
    "    train_dataset=train_data,\n",
    "    args=TrainingArguments(\n",
    "        per_device_train_batch_size=1,\n",
    "        gradient_accumulation_steps=4,\n",
    "        num_train_epochs=6,\n",
    "        learning_rate=1e-4,\n",
    "        logging_steps=2,\n",
    "        optim=\"adamw_torch\",\n",
    "        output_dir=\"aidx-mixtral\",\n",
    "    ),\n",
    "    data_collator=data_collator,\n",
    ")\n",
    "\n",
    "trainer.train()"
   ],
   "metadata": {
    "collapsed": false
   },
   "id": "910576f5dd6bfbfc"
  },
  {
   "cell_type": "code",
   "outputs": [
    {
     "name": "stderr",
     "output_type": "stream",
     "text": [
      "/usr/lib/python3/dist-packages/scipy/__init__.py:146: UserWarning: A NumPy version >=1.17.3 and <1.25.0 is required for this version of SciPy (detected version 1.26.3\n",
      "  warnings.warn(f\"A NumPy version >={np_minversion} and <{np_maxversion}\"\n"
     ]
    }
   ],
   "source": [
    "from evaluate import load\n",
    "\n",
    "bertscore = load(\"bertscore\")"
   ],
   "metadata": {
    "collapsed": false,
    "ExecuteTime": {
     "end_time": "2024-01-22T00:02:04.555332Z",
     "start_time": "2024-01-22T00:01:57.550549Z"
    }
   },
   "id": "d550184aaacea731",
   "execution_count": 1
  },
  {
   "cell_type": "code",
   "outputs": [
    {
     "data": {
      "text/plain": "{'precision': [0.56596839427948],\n 'recall': [0.5439147353172302],\n 'f1': [0.5547224879264832],\n 'hashcode': 'nfliu/scibert_basevocab_uncased_L9_no-idf_version=0.3.12(hug_trans=4.36.2)'}"
     },
     "execution_count": 15,
     "metadata": {},
     "output_type": "execute_result"
    }
   ],
   "source": [
    "bertscore.compute(predictions=['hello world'], references=['hi there!'], model_type='nfliu/scibert_basevocab_uncased')"
   ],
   "metadata": {
    "collapsed": false,
    "ExecuteTime": {
     "end_time": "2024-01-22T00:16:41.309930Z",
     "start_time": "2024-01-22T00:16:40.007226Z"
    }
   },
   "id": "9996e4d9dc7b9482",
   "execution_count": 15
  },
  {
   "cell_type": "code",
   "outputs": [],
   "source": [],
   "metadata": {
    "collapsed": false
   },
   "id": "294e62a8029f8d8c"
  }
 ],
 "metadata": {
  "kernelspec": {
   "display_name": "Python 3",
   "language": "python",
   "name": "python3"
  },
  "language_info": {
   "codemirror_mode": {
    "name": "ipython",
    "version": 2
   },
   "file_extension": ".py",
   "mimetype": "text/x-python",
   "name": "python",
   "nbconvert_exporter": "python",
   "pygments_lexer": "ipython2",
   "version": "2.7.6"
  }
 },
 "nbformat": 4,
 "nbformat_minor": 5
}
