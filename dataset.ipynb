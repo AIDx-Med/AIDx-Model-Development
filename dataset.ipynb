{
 "cells": [
  {
   "cell_type": "code",
   "outputs": [],
   "source": [
    "from dotenv import load_dotenv\n",
    "\n",
    "load_dotenv()"
   ],
   "metadata": {
    "collapsed": false
   },
   "id": "be84ce91b29887",
   "execution_count": null
  },
  {
   "cell_type": "code",
   "outputs": [],
   "source": [
    "from sqlalchemy import create_engine\n",
    "from sqlalchemy.engine import URL\n",
    "import os\n",
    "\n",
    "HOST_IP = os.environ['HOST_IP']\n",
    "DATABASE_USER = os.environ['DATABASE_USER']\n",
    "DATABASE_PASSWORD = os.environ['DATABASE_PASSWORD']\n",
    "DATABASE_PORT = os.environ['DATABASE_PORT']\n",
    "\n",
    "connection_url = URL.create(\n",
    "    \"postgresql+psycopg2\",\n",
    "    username=DATABASE_USER,\n",
    "    password=DATABASE_PASSWORD,\n",
    "    host=HOST_IP,\n",
    "    port=DATABASE_PORT,\n",
    "    database=\"mimiciv\"\n",
    ")\n",
    "\n",
    "engine = create_engine(connection_url)"
   ],
   "metadata": {
    "collapsed": false
   },
   "id": "4b4264c3bdf305f2",
   "execution_count": null
  },
  {
   "cell_type": "code",
   "outputs": [],
   "source": [
    "import pandas as pd\n",
    "from sqlalchemy import text\n",
    "\n",
    "query = text(\"SELECT * FROM mimiciv.mimiciv_hosp.admissions LIMIT 10\")\n",
    "pd.read_sql_query(query, engine)"
   ],
   "metadata": {
    "collapsed": false
   },
   "id": "a7e16978896ef96b",
   "execution_count": null
  },
  {
   "cell_type": "code",
   "outputs": [],
   "source": [
    "import json\n",
    "\n",
    "query = text(\"\"\"\n",
    "SELECT json_build_object(\n",
    "    n.nspname, \n",
    "    json_agg(\n",
    "        json_build_object(\n",
    "            t.tablename, \n",
    "            t.columns\n",
    "        )\n",
    "    )\n",
    ")\n",
    "FROM pg_catalog.pg_namespace n\n",
    "JOIN (\n",
    "    SELECT \n",
    "        t.schemaname, \n",
    "        t.tablename, \n",
    "        array_agg(c.column_name) as columns\n",
    "    FROM pg_catalog.pg_tables t\n",
    "    JOIN information_schema.columns c ON t.tablename = c.table_name AND t.schemaname = c.table_schema\n",
    "    WHERE t.schemaname NOT IN ('information_schema', 'pg_catalog', 'pg_toast')\n",
    "    GROUP BY t.schemaname, t.tablename\n",
    ") t ON n.nspname = t.schemaname\n",
    "GROUP BY n.nspname\n",
    "\"\"\")\n",
    "\n",
    "# Execute the query\n",
    "with engine.connect() as con:\n",
    "    result = con.execute(query).fetchall()"
   ],
   "metadata": {
    "collapsed": false
   },
   "id": "bfc20ee19e1826",
   "execution_count": null
  },
  {
   "cell_type": "code",
   "outputs": [],
   "source": [
    "# Formatting and printing the result\n",
    "list_of_schemas = [res[0] for res in result]\n",
    "formatted_result_1 = {k: v for d in list_of_schemas for k, v in d.items()}\n",
    "formatted_result = {}\n",
    "for outer_key, list_of_dicts in formatted_result_1.items():\n",
    "    combined_dict = {}\n",
    "    for inner_dict in list_of_dicts:\n",
    "        combined_dict.update(inner_dict)\n",
    "    formatted_result[outer_key] = combined_dict\n",
    "formatted_result"
   ],
   "metadata": {
    "collapsed": false
   },
   "id": "f505a3f77641728c",
   "execution_count": null
  },
  {
   "cell_type": "code",
   "outputs": [],
   "source": [
    "subject_id = 10000032\n",
    "hadm_id = 29079034\n",
    "\n",
    "query = text(\"select * from mimiciv.mimiciv_hosp.admissions where subject_id = :subject and hadm_id = :hadm;\")\n",
    "query = query.bindparams(subject=subject_id, hadm=hadm_id)\n",
    "\n",
    "df = pd.read_sql_query(query, engine)\n",
    "\n",
    "df"
   ],
   "metadata": {
    "collapsed": false
   },
   "id": "4714b37430396bbb",
   "execution_count": null
  },
  {
   "cell_type": "code",
   "outputs": [],
   "source": [
    "# clone df\n",
    "hospital_stay = df.copy()\n",
    "\n",
    "for k, v in formatted_result['mimiciv_hosp'].items():\n",
    "    if 'hadm_id' in v:\n",
    "        if k == 'admissions':\n",
    "            continue\n",
    "        \n",
    "        print(k)\n",
    "        sql_query = text(f\"select * from mimiciv.mimiciv_hosp.{k} where hadm_id = :hadm_id\").bindparams(hadm_id=hadm_id)\n",
    "        sql_df = pd.read_sql(sql_query, engine).drop('subject_id', axis=1, errors='ignore')\n",
    "        \n",
    "        # Prefix column with table name\n",
    "        sql_df = sql_df.rename(columns=lambda x: f\"{k}_{x}\" if x != 'hadm_id' else x)\n",
    "        \n",
    "        # if more than one row, convert to list of dictionaries\n",
    "        if len(sql_df) > 1:\n",
    "            sql_df = sql_df.drop('hadm_id', axis=1, errors='ignore')\n",
    "            sql_df = sql_df.to_dict('records')\n",
    "            \n",
    "            # add to df2 as a single cell in new column\n",
    "            hospital_stay[k] = [sql_df]\n",
    "        else:\n",
    "            hospital_stay = hospital_stay.merge(sql_df, on='hadm_id', how='outer')"
   ],
   "metadata": {
    "collapsed": false
   },
   "id": "9eb7e35527699ac5",
   "execution_count": null
  },
  {
   "cell_type": "code",
   "outputs": [],
   "source": [
    "hospital_stay"
   ],
   "metadata": {
    "collapsed": false
   },
   "id": "6ea619feb446fd86",
   "execution_count": null
  },
  {
   "cell_type": "code",
   "outputs": [],
   "source": [
    "ed_stay_query = text(\"select * from mimiciv.mimiciv_ed.edstays where hadm_id = :hadm_id\").bindparams(hadm_id=hadm_id)\n",
    "\n",
    "ed_stay_df = pd.read_sql(ed_stay_query, engine)\n",
    "\n",
    "ed_stays = []\n",
    "\n",
    "for row in ed_stay_df.iterrows():\n",
    "    row_info = pd.DataFrame(row[1]).transpose()\n",
    "    stay_id = row_info['stay_id'].values[0]\n",
    "    \n",
    "    for k, v in formatted_result['mimiciv_ed'].items():\n",
    "        if 'stay_id' in v:\n",
    "            if k == 'edstays':\n",
    "                continue\n",
    "            \n",
    "            print(k)\n",
    "            sql_query = text(f\"select * from mimiciv.mimiciv_ed.{k} where stay_id = :stay_id\").bindparams(stay_id=stay_id)\n",
    "            sql_df = pd.read_sql(sql_query, engine).drop('subject_id', axis=1, errors='ignore')\n",
    "            \n",
    "            # Prefix column with table name\n",
    "            sql_df = sql_df.rename(columns=lambda x: f\"{k}_{x}\" if x != 'stay_id' else x)\n",
    "            \n",
    "            # if more than one row, convert to list of dictionaries\n",
    "            if len(sql_df) > 1:\n",
    "                sql_df = sql_df.drop('stay_id', axis=1, errors='ignore')\n",
    "                sql_df = sql_df.to_dict('records')\n",
    "                                \n",
    "                # add to df2 as a single cell in new column\n",
    "                row_info[k] = [sql_df]\n",
    "            else:\n",
    "                row_info = row_info.merge(sql_df, on='stay_id', how='outer')\n",
    "                \n",
    "    ed_stays.append(row_info)\n",
    "    \n",
    "ed_stays = pd.concat(ed_stays, ignore_index=True)"
   ],
   "metadata": {
    "collapsed": false
   },
   "id": "cfc47be42e7228e7",
   "execution_count": null
  },
  {
   "cell_type": "code",
   "outputs": [],
   "source": [
    "ed_stays"
   ],
   "metadata": {
    "collapsed": false
   },
   "id": "d74677f66550fe48",
   "execution_count": null
  },
  {
   "cell_type": "code",
   "outputs": [],
   "source": [
    "icu_stay_query = text(\"select * from mimiciv.mimiciv_icu.icustays where hadm_id = :hadm_id\").bindparams(hadm_id=hadm_id)\n",
    "\n",
    "icu_stay_df = pd.read_sql(icu_stay_query, engine)\n",
    "\n",
    "icu_stays = []\n",
    "\n",
    "for row in icu_stay_df.iterrows():\n",
    "    row_info = pd.DataFrame(row[1]).transpose()\n",
    "    stay_id = row_info['stay_id'].values[0]\n",
    "    \n",
    "    for k, v in formatted_result['mimiciv_icu'].items():\n",
    "        if 'stay_id' in v:\n",
    "            if k == 'icustays':\n",
    "                continue\n",
    "            \n",
    "            print(k)\n",
    "            sql_query = text(f\"select * from mimiciv.mimiciv_icu.{k} where stay_id = :stay_id\").bindparams(stay_id=stay_id)\n",
    "            sql_df = pd.read_sql(sql_query, engine).drop('subject_id', axis=1, errors='ignore')\n",
    "            \n",
    "            # Prefix column with table name\n",
    "            sql_df = sql_df.rename(columns=lambda x: f\"{k}_{x}\" if x != 'stay_id' else x)\n",
    "            \n",
    "            # if more than one row, convert to list of dictionaries\n",
    "            if len(sql_df) > 1:\n",
    "                sql_df = sql_df.drop('stay_id', axis=1, errors='ignore')\n",
    "                sql_df = sql_df.to_dict('records')\n",
    "                                \n",
    "                # add to df2 as a single cell in new column\n",
    "                row_info[k] = [sql_df]\n",
    "            else:\n",
    "                row_info = row_info.merge(sql_df, on='stay_id', how='outer')\n",
    "                \n",
    "    icu_stays.append(row_info)\n",
    "    \n",
    "icu_stays = pd.concat(icu_stays, ignore_index=True)"
   ],
   "metadata": {
    "collapsed": false
   },
   "id": "9d6802ddb4070e82",
   "execution_count": null
  },
  {
   "cell_type": "code",
   "outputs": [],
   "source": [
    "icu_stays"
   ],
   "metadata": {
    "collapsed": false
   },
   "id": "66d121f90b60057c",
   "execution_count": null
  },
  {
   "cell_type": "code",
   "outputs": [],
   "source": [],
   "metadata": {
    "collapsed": false
   },
   "id": "aad6e34f780f47f7",
   "execution_count": null
  }
 ],
 "metadata": {
  "kernelspec": {
   "display_name": "Python 3",
   "language": "python",
   "name": "python3"
  },
  "language_info": {
   "codemirror_mode": {
    "name": "ipython",
    "version": 2
   },
   "file_extension": ".py",
   "mimetype": "text/x-python",
   "name": "python",
   "nbconvert_exporter": "python",
   "pygments_lexer": "ipython2",
   "version": "2.7.6"
  }
 },
 "nbformat": 4,
 "nbformat_minor": 5
}
