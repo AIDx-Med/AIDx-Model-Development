{
 "cells": [
  {
   "cell_type": "code",
   "outputs": [],
   "source": [
    "from dotenv import load_dotenv\n",
    "\n",
    "load_dotenv()"
   ],
   "metadata": {
    "collapsed": false
   },
   "id": "be84ce91b29887",
   "execution_count": null
  },
  {
   "cell_type": "code",
   "outputs": [],
   "source": [
    "from sqlalchemy import create_engine\n",
    "from sqlalchemy.engine import URL\n",
    "import os\n",
    "\n",
    "HOST_IP = os.environ['HOST_IP']\n",
    "DATABASE_USER = os.environ['DATABASE_USER']\n",
    "DATABASE_PASSWORD = os.environ['DATABASE_PASSWORD']\n",
    "DATABASE_PORT = os.environ['DATABASE_PORT']\n",
    "\n",
    "connection_url = URL.create(\n",
    "    \"postgresql+psycopg2\",\n",
    "    username=DATABASE_USER,\n",
    "    password=DATABASE_PASSWORD,\n",
    "    host=HOST_IP,\n",
    "    port=DATABASE_PORT,\n",
    "    database=\"mimiciv\"\n",
    ")\n",
    "\n",
    "engine = create_engine(connection_url)"
   ],
   "metadata": {
    "collapsed": false
   },
   "id": "4b4264c3bdf305f2",
   "execution_count": null
  },
  {
   "cell_type": "code",
   "outputs": [],
   "source": [
    "import pandas as pd\n",
    "from sqlalchemy import text\n",
    "\n",
    "query = text(\"SELECT * FROM mimiciv.mimiciv_hosp.admissions LIMIT 10\")\n",
    "pd.read_sql_query(query, engine)"
   ],
   "metadata": {
    "collapsed": false
   },
   "id": "a7e16978896ef96b",
   "execution_count": null
  },
  {
   "cell_type": "code",
   "outputs": [],
   "source": [
    "query = text(\"\"\"\n",
    "SELECT json_build_object(\n",
    "    schema_name, json_agg(\n",
    "        json_build_object(\n",
    "            table_name, column_names\n",
    "        )\n",
    "    )\n",
    ")\n",
    "FROM (\n",
    "    SELECT \n",
    "        t.table_schema as schema_name, \n",
    "        t.table_name, \n",
    "        json_agg(c.column_name ORDER BY c.ordinal_position) as column_names\n",
    "    FROM information_schema.tables t\n",
    "    INNER JOIN information_schema.columns c \n",
    "        ON t.table_schema = c.table_schema AND t.table_name = c.table_name\n",
    "    WHERE t.table_schema NOT IN ('information_schema', 'pg_catalog')\n",
    "    GROUP BY t.table_schema, t.table_name\n",
    ") AS sub\n",
    "GROUP BY schema_name;\n",
    "\"\"\")\n",
    "\n",
    "# Execute the query\n",
    "with engine.connect() as con:\n",
    "    result = con.execute(query).fetchall()"
   ],
   "metadata": {
    "collapsed": false
   },
   "id": "bfc20ee19e1826",
   "execution_count": null
  },
  {
   "cell_type": "code",
   "outputs": [],
   "source": [
    "# Extract schemas and their respective tables with columns from the query result\n",
    "schemas_with_tables = [schema_result[0] for schema_result in result]\n",
    "\n",
    "# Flatten the list of dictionaries for each schema\n",
    "database_structure = {}\n",
    "for schema in schemas_with_tables:\n",
    "    for schema_name, tables in schema.items():\n",
    "        # Initialize the schema in the flattened dictionary if not already present\n",
    "        if schema_name not in database_structure:\n",
    "            database_structure[schema_name] = {}\n",
    "\n",
    "        # Combine the tables under the same schema\n",
    "        for table in tables:\n",
    "            database_structure[schema_name].update(table)\n",
    "\n",
    "database_structure"
   ],
   "metadata": {
    "collapsed": false
   },
   "id": "f505a3f77641728c",
   "execution_count": null
  },
  {
   "cell_type": "code",
   "outputs": [],
   "source": [
    "def to_clean_records(dataframe):\n",
    "    return dataframe.apply(lambda row: row.dropna().to_dict(), axis=1).tolist()"
   ],
   "metadata": {
    "collapsed": false
   },
   "id": "321450ea3c8d6841",
   "execution_count": null
  },
  {
   "cell_type": "code",
   "outputs": [],
   "source": [
    "subject_id = 10000032\n",
    "hadm_id = 29079034\n",
    "# subject_id = 10005909\n",
    "# hadm_id = 20199380\n",
    "\n",
    "query = text(\n",
    "    \"select * from mimiciv.mimiciv_hosp.admissions where subject_id = :subject and hadm_id = :hadm;\").bindparams(\n",
    "    subject=subject_id, hadm=hadm_id)\n",
    "\n",
    "hospital_stay = pd.read_sql_query(query, engine)\n",
    "\n",
    "tables_to_ignore = [\n",
    "    'admissions',\n",
    "    'drgcodes',\n",
    "    'emar',\n",
    "    'hcpcsevents',\n",
    "    'pharmacy'\n",
    "]\n",
    "\n",
    "hosp_cols_to_remove = [\n",
    "    'subject_id', 'hadm_id', 'seq_num', 'emar_id', 'emar_seq', 'pharmacy_id', 'enter_provider_id', 'labevent_id',\n",
    "    'order_provider_id',\n",
    "    'admit_provider_id', 'storetime',\n",
    "    'insurance', 'edregtime', 'edouttime',\n",
    "    'anchor_year_group', 'hospital_expire_flag',\n",
    "    'specimen_id', 'status', 'entertime', 'verifiedtime', 'expiration_value', 'expiration_unit', 'expiration_date', \n",
    "    'order_status',\n",
    "    'gsn', 'ndc', 'formulary_drug_cd', 'poe_seq',\n",
    "    'microevent_id', 'micro_specimen_id', 'spec_itemid', 'test_seq', 'test_itemid',\n",
    "]\n",
    "\n",
    "for column, v in database_structure['mimiciv_hosp'].items():\n",
    "    if 'hadm_id' in v:\n",
    "        if column in tables_to_ignore:\n",
    "            continue\n",
    "\n",
    "        print(column)\n",
    "        sql_query = text(f\"select * from mimiciv.mimiciv_hosp.{column} where hadm_id = :hadm_id\").bindparams(hadm_id=hadm_id)\n",
    "        sql_df = pd.read_sql(sql_query, engine)\n",
    "        removed_cols = [col for col in hosp_cols_to_remove if col in sql_df.columns]\n",
    "        sql_df = sql_df.drop(removed_cols, axis=1, errors='ignore')\n",
    "\n",
    "        if isinstance(sql_df, pd.DataFrame):\n",
    "            sql_df = to_clean_records(sql_df)\n",
    "\n",
    "        hospital_stay[column] = [sql_df]\n",
    "        \n",
    "hospital_stay = hospital_stay.drop(\n",
    "    [col for col in hosp_cols_to_remove if col in hospital_stay.columns], axis=1, errors='ignore'\n",
    ")"
   ],
   "metadata": {
    "collapsed": false
   },
   "id": "9eb7e35527699ac5",
   "execution_count": null
  },
  {
   "cell_type": "code",
   "outputs": [],
   "source": [
    "# additional tables from subject id\n",
    "additional_patient_tables = [\n",
    "    'omr',\n",
    "    'patients'\n",
    "]\n",
    "\n",
    "for table in additional_patient_tables:\n",
    "    print(table)\n",
    "    sql_query = text(f\"select * from mimiciv.mimiciv_hosp.{table} where subject_id = :subject_id\").bindparams(subject_id=subject_id)\n",
    "    sql_df = pd.read_sql(sql_query, engine)\n",
    "    removed_cols = [col for col in hosp_cols_to_remove if col in sql_df.columns]\n",
    "    sql_df = sql_df.drop(removed_cols, axis=1, errors='ignore')\n",
    "\n",
    "    if isinstance(sql_df, pd.DataFrame):\n",
    "        sql_df = to_clean_records(sql_df)\n",
    "\n",
    "    hospital_stay[table] = [sql_df]"
   ],
   "metadata": {
    "collapsed": false
   },
   "id": "595ce2b741a097a8",
   "execution_count": null
  },
  {
   "cell_type": "code",
   "outputs": [],
   "source": [
    "def convert_icd_to_text(icd_list, icd_type):\n",
    "    # Prepare a CASE statement for ordering\n",
    "    case_statement = \"CASE \"\n",
    "    for index, item in enumerate(icd_list):\n",
    "        code = item['icd_code'].strip()  # Remove leading/trailing spaces\n",
    "        version = item['icd_version']\n",
    "        case_statement += f\"WHEN icd_code = '{code}' AND icd_version = {version} THEN {index} \"\n",
    "\n",
    "    case_statement += \"END\"\n",
    "\n",
    "    # Create a WHERE IN clause\n",
    "    icd_conditions = \", \".join([f\"('{item['icd_code'].strip()}', {item['icd_version']})\" for item in icd_list])\n",
    "    sql_query = f\"\"\"\n",
    "    SELECT long_title \n",
    "    FROM mimiciv.mimiciv_hosp.d_icd_{icd_type} \n",
    "    WHERE (icd_code, icd_version) IN ({icd_conditions})\n",
    "    ORDER BY {case_statement};\n",
    "    \"\"\"\n",
    "\n",
    "    # Execute the query\n",
    "    return pd.read_sql(sql_query, engine)['long_title'].tolist()\n",
    "\n",
    "def convert_lab_id_to_info(labs):\n",
    "    # Prepare a CASE statement for ordering\n",
    "    case_statement = \"CASE \"\n",
    "    for index, item in enumerate(labs):\n",
    "        id = item['itemid']\n",
    "        case_statement += f\"WHEN itemid = {id} THEN {index} \"\n",
    "\n",
    "    case_statement += \"END\"\n",
    "\n",
    "    # Create a WHERE IN clause\n",
    "    lab_conditions = \", \".join([str(item['itemid']) for item in labs])\n",
    "    sql_query = f\"\"\"\n",
    "    SELECT *\n",
    "    FROM mimiciv.mimiciv_hosp.d_labitems\n",
    "    WHERE itemid IN ({lab_conditions})\n",
    "    ORDER BY {case_statement};\n",
    "    \"\"\"\n",
    "\n",
    "    # Execute the query\n",
    "    returned = pd.read_sql(sql_query, engine)\n",
    "    \n",
    "    original = pd.DataFrame.from_dict(labs)\n",
    "    \n",
    "    return to_clean_records(original.merge(returned, on='itemid', how='outer').drop('itemid', axis=1).sort_values(by=['charttime']))"
   ],
   "metadata": {
    "collapsed": false
   },
   "id": "8cf2665fef4e8d6f",
   "execution_count": null
  },
  {
   "cell_type": "code",
   "outputs": [],
   "source": [
    "# post processing\n",
    "\n",
    "for column in hospital_stay.columns:\n",
    "    print(column)\n",
    "    match column:\n",
    "        case 'diagnoses_icd':\n",
    "            if len(hospital_stay[column][0]) > 0:\n",
    "                ordered_diagnoses = convert_icd_to_text(hospital_stay[column][0], 'diagnoses')\n",
    "                hospital_stay[column] = [ordered_diagnoses]\n",
    "        case 'labevents':\n",
    "            hospital_stay[column] = [convert_lab_id_to_info(hospital_stay[column][0])]\n",
    "        case 'procedures_icd':\n",
    "            if len(hospital_stay[column][0]) > 0:\n",
    "                ordered_procedures = convert_icd_to_text(hospital_stay[column][0], 'procedures')\n",
    "                for name, d in zip(ordered_procedures, hospital_stay[column][0]):\n",
    "                    d['title'] = name\n",
    "                    \n",
    "                procedures_df = pd.DataFrame(hospital_stay[column][0])\n",
    "                procedures_df = procedures_df.drop(['icd_code', 'icd_version'], axis=1).sort_values(by=['chartdate'])\n",
    "                hospital_stay[column] = [to_clean_records(procedures_df)]\n",
    "        case 'prescriptions':\n",
    "            poe_df = pd.DataFrame(hospital_stay['poe'][0])\n",
    "            prescriptions_df = pd.DataFrame(hospital_stay['prescriptions'][0])\n",
    "        \n",
    "            # Get all the prescriptions that have a non-null value in the `poe_id` column\n",
    "            poe_prescriptions = prescriptions_df[prescriptions_df['poe_id'].notnull()]\n",
    "            poe_prescriptions = poe_prescriptions.merge(poe_df, on='poe_id', how='outer')\n",
    "            \n",
    "            # if a row in poe_prescriptions has both a starttime and an ordertime, set ordertime as null\n",
    "            poe_prescriptions.loc[(poe_prescriptions['starttime'].notnull()) & (poe_prescriptions['ordertime'].notnull()), 'ordertime'] = None\n",
    "            \n",
    "            poe_prescriptions['temp'] = poe_prescriptions['starttime'].combine_first(poe_prescriptions['ordertime'])\n",
    "            \n",
    "            poe_prescriptions = poe_prescriptions.sort_values(by=['temp'])\n",
    "            poe_prescriptions = poe_prescriptions.drop('temp', axis=1)\n",
    "        \n",
    "            # Get all the prescriptions that have a null value in the `poe_id` column\n",
    "            non_poe_prescriptions = prescriptions_df[prescriptions_df['poe_id'].isnull()]\n",
    "        \n",
    "            hospital_stay['poe'] = [to_clean_records(poe_prescriptions)]\n",
    "        \n",
    "            if len(non_poe_prescriptions) > 0:\n",
    "                hospital_stay['prescriptions'] = [to_clean_records(non_poe_prescriptions.sort_values())]\n",
    "            else:\n",
    "                hospital_stay['prescriptions'] = [[]]\n",
    "        case 'poe':\n",
    "            poe_df = pd.DataFrame(hospital_stay['poe'][0])\n",
    "            poe_df = poe_df[(poe_df['order_type'] != 'ADT orders') & (poe_df['order_type'] != 'Lab')]\n",
    "            \n",
    "            hospital_stay['poe'] = [to_clean_records(poe_df)]\n",
    "        case 'microbiologyevents':\n",
    "            micro_df = pd.DataFrame(hospital_stay[column][0])\n",
    "            micro_df = micro_df.drop('chartdate', axis=1)\n",
    "            hospital_stay[column] = [to_clean_records(micro_df)]"
   ],
   "metadata": {
    "collapsed": false
   },
   "id": "8fe8ea24ef2d5916",
   "execution_count": null
  },
  {
   "cell_type": "code",
   "outputs": [],
   "source": [
    "# rename columns to be more readable\n",
    "hospital_stay = hospital_stay.rename(columns={\n",
    "    'admittime': 'admission time',\n",
    "    'dischtime': 'discharge time',\n",
    "    'deathtime': 'death time',\n",
    "    'admission_type': 'admission type',\n",
    "    'admission_location': 'admission location',\n",
    "    'discharge_location': 'discharge location',\n",
    "    'marital_status': 'marital status',\n",
    "    'diagnoses_icd': 'diagnoses',\n",
    "    'labevents': 'lab tests',\n",
    "    'microbiologyevents': 'microbiology tests',\n",
    "    'poe': 'provider orders',\n",
    "    'procedures_icd': 'procedures',\n",
    "    'services': 'hospital services',\n",
    "    'omr': 'other patient information',\n",
    "    'patients': 'patient information'\n",
    "})"
   ],
   "metadata": {
    "collapsed": false
   },
   "id": "574c9df058013d47",
   "execution_count": null
  },
  {
   "cell_type": "code",
   "outputs": [],
   "source": [
    "hospital_stay"
   ],
   "metadata": {
    "collapsed": false
   },
   "id": "6ea619feb446fd86",
   "execution_count": null
  },
  {
   "cell_type": "code",
   "outputs": [],
   "source": [
    "ed_stay_query = text(\"select * from mimiciv.mimiciv_ed.edstays where hadm_id = :hadm_id\").bindparams(hadm_id=hadm_id)\n",
    "\n",
    "# stay_id = 32522732\n",
    "# ed_stay_query = text(\"select * from mimiciv.mimiciv_ed.edstays where stay_id = :stay_id\").bindparams(stay_id=stay_id)\n",
    "\n",
    "ed_stay_df = pd.read_sql(ed_stay_query, engine)\n",
    "\n",
    "ed_stays = []\n",
    "\n",
    "ed_cols_to_remove = [\n",
    "    'subject_id',\n",
    "    'stay_id',\n",
    "    'seq_num',\n",
    "    'icd_code',\n",
    "    'icd_version',\n",
    "    'gsn',\n",
    "    'ndc',\n",
    "    'etc_rn',\n",
    "    'etccode',\n",
    "    'med_rn',\n",
    "    'gsn',\n",
    "    'gsn_rn'\n",
    "]\n",
    "\n",
    "for row in ed_stay_df.iterrows():\n",
    "    row_info = pd.DataFrame(row[1]).transpose()\n",
    "    stay_id = row_info['stay_id'].values[0]\n",
    "\n",
    "    for column, value in database_structure['mimiciv_ed'].items():\n",
    "        if 'stay_id' in value:\n",
    "            if column == 'edstays':\n",
    "                continue\n",
    "\n",
    "            print(column)\n",
    "            sql_query = text(f\"select * from mimiciv.mimiciv_ed.{column} where stay_id = :stay_id\").bindparams(\n",
    "                stay_id=stay_id)\n",
    "            sql_df = pd.read_sql(sql_query, engine)\n",
    "            \n",
    "            removed_cols = [col for col in ed_cols_to_remove if col in sql_df.columns]\n",
    "            sql_df = sql_df.drop(removed_cols, axis=1, errors='ignore')\n",
    "            \n",
    "            match column:\n",
    "                case 'diagnosis':\n",
    "                    # convert to a list of icd_title column\n",
    "                    sql_df = sql_df['icd_title'].tolist()\n",
    "                case 'medrecon':\n",
    "                    sql_df = sql_df.drop('charttime', axis=1, errors='ignore')\n",
    "                    sql_df = sql_df.rename(columns={'etcdescription': 'enhanced therapeutic class'})\n",
    "                case 'pyxis':\n",
    "                    # remove duplicate rows if `name` AND `charttime` are the same\n",
    "                    sql_df = sql_df.drop_duplicates(subset=['name', 'charttime']) \n",
    "            \n",
    "            if isinstance(sql_df, pd.DataFrame):\n",
    "                sql_df = to_clean_records(sql_df)\n",
    "\n",
    "            row_info[column] = [sql_df]\n",
    "    ed_stays.append(row_info)\n",
    "\n",
    "ed_stays = pd.concat(ed_stays, ignore_index=True)\n",
    "\n",
    "# rename columns to be more readable\n",
    "ed_stays = ed_stays.rename(columns={\n",
    "    'intime': 'arrival time',\n",
    "    'outtime': 'exit time',\n",
    "    'arrival_transport': 'arrival transport',\n",
    "    'medrecon': 'medication reconciliation',\n",
    "    'pyxis': 'dispensed medications',\n",
    "    'vitalsign': 'vital signs'\n",
    "})\n",
    "\n",
    "\n",
    "# reorder columns\n",
    "ed_stays = ed_stays[[\n",
    "    'subject_id', 'hadm_id', 'stay_id',\n",
    "    'race', 'gender',\n",
    "    'arrival time', 'arrival transport',\n",
    "    'triage',\n",
    "    'vital signs',\n",
    "    'medication reconciliation',\n",
    "    'dispensed medications',\n",
    "    'exit time', 'disposition',\n",
    "    'diagnosis'\n",
    "]]"
   ],
   "metadata": {
    "collapsed": false
   },
   "id": "cfc47be42e7228e7",
   "execution_count": null
  },
  {
   "cell_type": "code",
   "outputs": [],
   "source": [
    "ed_stays"
   ],
   "metadata": {
    "collapsed": false
   },
   "id": "d74677f66550fe48",
   "execution_count": null
  },
  {
   "cell_type": "code",
   "outputs": [],
   "source": [
    "icu_stay_query = text(\"select * from mimiciv.mimiciv_icu.icustays where hadm_id = :hadm_id\").bindparams(hadm_id=hadm_id)\n",
    "\n",
    "icu_stay_df = pd.read_sql(icu_stay_query, engine)\n",
    "\n",
    "icu_stays = []\n",
    "\n",
    "for row in icu_stay_df.iterrows():\n",
    "    row_info = pd.DataFrame(row[1]).transpose()\n",
    "    stay_id = row_info['stay_id'].values[0]\n",
    "\n",
    "    for k, v in database_structure['mimiciv_icu'].items():\n",
    "        if 'stay_id' in v:\n",
    "            if k == 'icustays':\n",
    "                continue\n",
    "\n",
    "            print(k)\n",
    "            sql_query = text(f\"select * from mimiciv.mimiciv_icu.{k} where stay_id = :stay_id\").bindparams(\n",
    "                stay_id=stay_id)\n",
    "            sql_df = pd.read_sql(sql_query, engine).drop('subject_id', axis=1, errors='ignore')\n",
    "\n",
    "            # Prefix column with table name\n",
    "            sql_df = sql_df.rename(columns=lambda x: f\"{k}_{x}\" if x != 'stay_id' else x)\n",
    "\n",
    "            # if more than one row, convert to list of dictionaries\n",
    "            if len(sql_df) > 1:\n",
    "                sql_df = sql_df.drop('stay_id', axis=1, errors='ignore')\n",
    "                sql_df = to_clean_records(sql_df)\n",
    "\n",
    "                # add to df2 as a single cell in new column\n",
    "                row_info[k] = [sql_df]\n",
    "            else:\n",
    "                row_info = row_info.merge(sql_df, on='stay_id', how='outer')\n",
    "\n",
    "    icu_stays.append(row_info)\n",
    "\n",
    "icu_stays = pd.concat(icu_stays, ignore_index=True)"
   ],
   "metadata": {
    "collapsed": false
   },
   "id": "9d6802ddb4070e82",
   "execution_count": null
  },
  {
   "cell_type": "code",
   "outputs": [],
   "source": [
    "icu_stays"
   ],
   "metadata": {
    "collapsed": false
   },
   "id": "66d121f90b60057c",
   "execution_count": null
  },
  {
   "cell_type": "code",
   "outputs": [],
   "source": [
    "discharge_note_query = text(\"select * from mimiciv.mimiciv_note.discharge where hadm_id = :hadm_id\").bindparams(\n",
    "    hadm_id=hadm_id)\n",
    "\n",
    "discharge_note_df = pd.read_sql(discharge_note_query, engine)\n",
    "\n",
    "radiology_note_query = text(\"select * from mimiciv.mimiciv_note.radiology where hadm_id = :hadm_id\").bindparams(\n",
    "    hadm_id=hadm_id)\n",
    "\n",
    "radiology_note_df = pd.read_sql(radiology_note_query, engine)"
   ],
   "metadata": {
    "collapsed": false
   },
   "id": "aad6e34f780f47f7",
   "execution_count": null
  },
  {
   "cell_type": "code",
   "outputs": [],
   "source": [
    "discharge_note_df"
   ],
   "metadata": {
    "collapsed": false
   },
   "id": "8c380eb7c5293451",
   "execution_count": null
  },
  {
   "cell_type": "code",
   "outputs": [],
   "source": [
    "radiology_note_df"
   ],
   "metadata": {
    "collapsed": false
   },
   "id": "991b63f21007b818",
   "execution_count": null
  },
  {
   "cell_type": "code",
   "outputs": [],
   "source": [
    "def format_df_to_text(df):\n",
    "    output = \"\"\n",
    "\n",
    "    for row in df.iterrows():\n",
    "        for column in df.columns:\n",
    "            if column in ['subject_id', 'hadm_id']:\n",
    "                continue\n",
    "\n",
    "            value = row[1][column]\n",
    "\n",
    "            if isinstance(value, list) and len(value) > 0:\n",
    "                output += f\"{column}:\\n\"\n",
    "\n",
    "                if isinstance(value[0], dict):\n",
    "                    for i, dictionary in enumerate(value):\n",
    "                        output += f\" - {i + 1} of {len(value)}\\n\"\n",
    "                        for k, v in dictionary.items():\n",
    "                            if str(v).lower() not in ['none', 'nan', 'nat']:\n",
    "                                output += f\"   - {k}: {v}\\n\"\n",
    "                else:\n",
    "                    for v in value:\n",
    "                        if str(v).lower() not in ['none', 'nan', 'nat']:\n",
    "                            output += f\" - {v}\\n\"\n",
    "            elif not isinstance(value, list) and str(value).lower() not in ['none', 'nan', 'nat']:\n",
    "                output += f\"{column}: {value}\\n\"\n",
    "                \n",
    "        output += \"\\n\"\n",
    "\n",
    "    return output\n",
    "\n",
    "\n",
    "def patient_info_to_text(hosp_df, ed_df, icu_df, discharge_df, radiology_df):\n",
    "    patient_info = \"\""
   ],
   "metadata": {
    "collapsed": false
   },
   "id": "5d08d99e011268fe",
   "execution_count": null
  },
  {
   "cell_type": "code",
   "outputs": [],
   "source": [
    "format_df_to_text(ed_stays)"
   ],
   "metadata": {
    "collapsed": false
   },
   "id": "eb88fc610d11b3b6",
   "execution_count": null
  },
  {
   "cell_type": "code",
   "outputs": [],
   "source": [
    "format_df_to_text(hospital_stay)"
   ],
   "metadata": {
    "collapsed": false
   },
   "id": "42240a2f2c28c618",
   "execution_count": null
  },
  {
   "cell_type": "code",
   "outputs": [],
   "source": [],
   "metadata": {
    "collapsed": false
   },
   "id": "f9af683a5c612cca",
   "execution_count": null
  }
 ],
 "metadata": {
  "kernelspec": {
   "display_name": "Python 3",
   "language": "python",
   "name": "python3"
  },
  "language_info": {
   "codemirror_mode": {
    "name": "ipython",
    "version": 2
   },
   "file_extension": ".py",
   "mimetype": "text/x-python",
   "name": "python",
   "nbconvert_exporter": "python",
   "pygments_lexer": "ipython2",
   "version": "2.7.6"
  }
 },
 "nbformat": 4,
 "nbformat_minor": 5
}
