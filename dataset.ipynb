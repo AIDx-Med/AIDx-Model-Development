{
 "cells": [
  {
   "cell_type": "code",
   "outputs": [],
   "source": [
    "from dotenv import load_dotenv\n",
    "\n",
    "load_dotenv()"
   ],
   "metadata": {
    "collapsed": false
   },
   "id": "be84ce91b29887",
   "execution_count": null
  },
  {
   "cell_type": "code",
   "outputs": [],
   "source": [
    "from sqlalchemy import create_engine\n",
    "from sqlalchemy.engine import URL\n",
    "import os\n",
    "\n",
    "HOST_IP = os.environ['HOST_IP']\n",
    "DATABASE_USER = os.environ['DATABASE_USER']\n",
    "DATABASE_PASSWORD = os.environ['DATABASE_PASSWORD']\n",
    "DATABASE_PORT = os.environ['DATABASE_PORT']\n",
    "\n",
    "connection_url = URL.create(\n",
    "    \"postgresql+psycopg2\",\n",
    "    username=DATABASE_USER,\n",
    "    password=DATABASE_PASSWORD,\n",
    "    host=HOST_IP,\n",
    "    port=DATABASE_PORT,\n",
    "    database=\"mimiciv\"\n",
    ")\n",
    "\n",
    "engine = create_engine(connection_url)"
   ],
   "metadata": {
    "collapsed": false
   },
   "id": "4b4264c3bdf305f2",
   "execution_count": null
  },
  {
   "cell_type": "code",
   "outputs": [],
   "source": [
    "from sqlalchemy.orm import sessionmaker\n",
    "\n",
    "Session = sessionmaker(bind=engine)\n",
    "session = Session()"
   ],
   "metadata": {
    "collapsed": false
   },
   "id": "f5a1c28e78a5bc48",
   "execution_count": null
  },
  {
   "cell_type": "code",
   "outputs": [],
   "source": [
    "from sqlalchemy import text\n",
    "\n",
    "query = text(\"SELECT * FROM mimiciv.mimiciv_hosp.admissions LIMIT 10\")\n",
    "result = session.execute(query)\n",
    "\n",
    "for row in result:\n",
    "    print(row)"
   ],
   "metadata": {
    "collapsed": false
   },
   "id": "c428406ace7c3bc",
   "execution_count": null
  },
  {
   "cell_type": "code",
   "outputs": [],
   "source": [
    "import pandas as pd\n",
    "\n",
    "pd.read_sql_query(query, engine)"
   ],
   "metadata": {
    "collapsed": false
   },
   "id": "a7e16978896ef96b",
   "execution_count": null
  },
  {
   "cell_type": "code",
   "outputs": [],
   "source": [],
   "metadata": {
    "collapsed": false
   },
   "id": "bfc20ee19e1826"
  }
 ],
 "metadata": {
  "kernelspec": {
   "display_name": "Python 3",
   "language": "python",
   "name": "python3"
  },
  "language_info": {
   "codemirror_mode": {
    "name": "ipython",
    "version": 2
   },
   "file_extension": ".py",
   "mimetype": "text/x-python",
   "name": "python",
   "nbconvert_exporter": "python",
   "pygments_lexer": "ipython2",
   "version": "2.7.6"
  }
 },
 "nbformat": 4,
 "nbformat_minor": 5
}
